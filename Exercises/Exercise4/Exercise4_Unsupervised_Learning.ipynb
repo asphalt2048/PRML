{
 "cells": [
  {
   "cell_type": "markdown",
   "metadata": {
    "collapsed": false
   },
   "source": [
    "# Fudan PRML Fall 2024 Exercise 4: Unsupervised Learning"
   ]
  },
  {
   "cell_type": "markdown",
   "metadata": {
    "collapsed": false
   },
   "source": [
    "**Your name and Student ID:**\n",
    "\n",
    "Name: 李增昊\n",
    "\n",
    "Student ID:22307130108"
   ]
  },
  {
   "cell_type": "markdown",
   "metadata": {
    "collapsed": false
   },
   "source": [
    "In this assignment, you will build a **text classification** system which is a fundamental task in the field of Natural Language Processing (NLP). More precisely, you are given a news classification task, assigning given news texts to the categories to which they belong. Unlike traditional classification tasks, **we did not provide you with any labels for this assignment, and you need to find a way to construct labels for these articles**. "
   ]
  },
  {
   "cell_type": "markdown",
   "metadata": {
    "collapsed": false
   },
   "source": [
    "For this assignment you can use commonly used deep learning frameworks like PyTorch. **You can use pretrained word vectors like Glove, but not pretrained large models like BERT.**"
   ]
  },
  {
   "cell_type": "markdown",
   "metadata": {
    "collapsed": false
   },
   "source": [
    "# 1. Setup"
   ]
  },
  {
   "cell_type": "code",
   "execution_count": 2,
   "metadata": {},
   "outputs": [
    {
     "name": "stdout",
     "output_type": "stream",
     "text": [
      "The autoreload extension is already loaded. To reload it, use:\n",
      "  %reload_ext autoreload\n",
      "env: CUDA_VISIBLE_DEVICES=1\n"
     ]
    }
   ],
   "source": [
    "# setup code\n",
    "%load_ext autoreload\n",
    "%autoreload 2\n",
    "%env CUDA_VISIBLE_DEVICES = 1\n",
    "import os\n",
    "import pickle\n",
    "import numpy as np\n",
    "from sklearn.cluster import KMeans"
   ]
  },
  {
   "cell_type": "code",
   "execution_count": null,
   "metadata": {
    "collapsed": false
   },
   "outputs": [
    {
     "name": "stdout",
     "output_type": "stream",
     "text": [
      "经济学家吴敬琏为什么反对“不惜代价发展芯片产业”？\n",
      "颜值很高的她，一双美腿甚至可以让人忽略她的颜值\n",
      "转自常德诗人”再访桃花源“（再续心灵故乡的故事）\n",
      "虎牙拼杀四年抢得游戏直播第一股 但真正的挑战才刚开始\n",
      "如何评价许鞍华导演？她的电影为什么总能给人以触动？\n",
      "Total number of news: 83360\n"
     ]
    }
   ],
   "source": [
    "dataset_path = 'kmeans_news.pkl'\n",
    "\n",
    "all_data_np = None\n",
    "with open(dataset_path,'rb') as fin:\n",
    "    all_data = pickle.load(fin)\n",
    "    all_data_np = np.array(all_data_np)\n",
    "\n",
    "print ('\\n'.join(all_data[0:5]))\n",
    "print ('Total number of news: {}'.format(len(all_data)))"
   ]
  },
  {
   "cell_type": "markdown",
   "metadata": {
    "collapsed": false
   },
   "source": [
    "# 2. Exploratory Data Analysis\n",
    "\n",
    "Not all data within the dataset is suitable for clustering. You might need to filter and process some of them in advance."
   ]
  },
  {
   "cell_type": "code",
   "execution_count": 34,
   "metadata": {},
   "outputs": [
    {
     "name": "stdout",
     "output_type": "stream",
     "text": [
      "Empty data: 0\n",
      "------------------------------------------------------------------------------------------------------------------\n",
      "min length: 2, max length: 145, average: 22.24\n",
      "Short data counts: 1146\n",
      "都江堰景区\n",
      "自由泳手的入水\n",
      "韩语难学么？\n",
      "「二十四」马唐\n",
      "房地产投资参考\n"
     ]
    },
    {
     "data": {
      "image/png": "[encoded data removed]",
      "text/plain": [
       "<Figure size 1200x600 with 1 Axes>"
      ]
     },
     "metadata": {},
     "output_type": "display_data"
    },
    {
     "name": "stdout",
     "output_type": "stream",
     "text": [
      "------------------------------------------------------------------------------------------------------------------\n",
      "Chaos data counts: 71\n",
      "lgg6好不好？\n",
      "3d2018122期推荐\n",
      "美国\n",
      "No More Nice Girls，然后呢？\n",
      "Back to business！！！\n",
      "------------------------------------------------------------------------------------------------------------------\n",
      "Number of duplicate items: 4310\n",
      "Sample duplicates (item: count): [('经济学家吴敬琏为什么反对“不惜代价发展芯片产业”？', 3), ('方舟子说象棋源自印度，中国古代没有大象，你认为这种说法怎么样？', 51), ('高考志愿影响了你的未来吗？', 2), ('古希腊众神那点事儿（1）', 3), ('上联：一生二，二生三，三生万物物物生辉。怎么对下联？', 7)]\n",
      "Total number of news after filter: 74975\n"
     ]
    }
   ],
   "source": [
    "# just do a analysis on the data\n",
    "\n",
    "import re\n",
    "import matplotlib.pyplot as plt\n",
    "\n",
    "DEVIDE = \"------------------------------------------------------------------------------------------------------------------\"\n",
    "\n",
    "empty_data = [item for item in all_data_np if not item or item.strip()=='']\n",
    "print(\"Empty data: %d\"%len(empty_data))\n",
    "\n",
    "print(DEVIDE)\n",
    "\n",
    "lengths = [len(item) for item in all_data_np]\n",
    "min_index = np.argmin(lengths)\n",
    "max_index = np.argmax(lengths)\n",
    "print(f\"min length: {lengths[min_index]}, max length: {lengths[max_index]}, average:{np.mean(lengths): .2f}\")\n",
    "\n",
    "short_data = [item for item in all_data_np if len(item) < 8]\n",
    "print(f\"Short data counts: {len(short_data)}\")\n",
    "print('\\n'.join(short_data[0:5]))\n",
    "\n",
    "plt.figure(figsize=(12, 6))\n",
    "plt.hist(lengths, bins=20, edgecolor='black', color='skyblue')\n",
    "plt.title('Sentence Length Frequency Distribution')\n",
    "plt.xlabel('Sentence Length')\n",
    "plt.ylabel('Frequency')\n",
    "plt.grid(True)\n",
    "plt.xticks(range(0, max(lengths) + 1, 5))\n",
    "plt.yticks(range(0, max(lengths) + 1, 1))\n",
    "plt.tight_layout()\n",
    "plt.show()\n",
    "\n",
    "print(DEVIDE)\n",
    "\n",
    "chinese_pattern = re.compile(r'[\\u4e00-\\u9fa5]')\n",
    "chaos_data = [item for item in all_data_np if len(chinese_pattern.findall(item))<4]\n",
    "print(f\"Chaos data counts: {len(chaos_data)}\")\n",
    "print('\\n'.join(chaos_data[0:5]))\n",
    "\n",
    "print(DEVIDE)\n",
    "\n",
    "from collections import Counter\n",
    "\n",
    "data_counter = Counter(all_data_np)\n",
    "\n",
    "duplicates = {item: count for item, count in data_counter.items() if count > 1}\n",
    "print(f\"Number of duplicate items: {len(duplicates)}\")\n",
    "print(\"Sample duplicates (item: count):\", list(duplicates.items())[0:5])\n",
    "\n",
    "# now filter\n",
    "filter_data = all_data_np\n",
    "filter_data = [item for item in filter_data if 8<=len(item)<60]\n",
    "filter_data = [item for item in filter_data if len(chinese_pattern.findall(item))>=4]\n",
    "filter_data = list(set(filter_data))\n",
    "print(f\"Total number of news after filter: {len(filter_data)}\")"
   ]
  },
  {
   "cell_type": "markdown",
   "metadata": {},
   "source": [
    "# 3. Get embeddings for the news\n",
    "\n",
    "We need to convert the news titles into some kind of numerical representation (embedding) before we can do clustering on them. Below are two ways to get embeddings for a paragraph of text:\n",
    "\n",
    "1. **Pretrained word embeddings**: You can use pretrained word embeddings like Glove to get embeddings for each word in the news, and then average them (or try some more advanced techniques) to get the news embedding.\n",
    "\n",
    "2. **General text embedding models**: You can use general text embedding models to get embedding for a sentence directly.\n",
    "\n",
    "You can choose either of them to convert the news titles into embeddings."
   ]
  },
  {
   "cell_type": "code",
   "execution_count": 35,
   "metadata": {},
   "outputs": [
    {
     "name": "stderr",
     "output_type": "stream",
     "text": [
      "Building prefix dict from the default dictionary ...\n",
      "Dumping model to file cache C:\\Users\\李增昊\\AppData\\Local\\Temp\\jieba.cache\n",
      "Loading model cost 0.952 seconds.\n",
      "Prefix dict has been built successfully.\n"
     ]
    }
   ],
   "source": [
    "import jieba\n",
    "from sklearn.feature_extraction.text import TfidfVectorizer\n",
    "\n",
    "def segment(text):\n",
    "    return ' '.join(jieba.cut(text))  \n",
    "\n",
    "segmented_texts = [segment(sentence) for sentence in filter_data]\n",
    "\n",
    "vectorizer = TfidfVectorizer()\n",
    "sentence_embeddings = vectorizer.fit_transform(segmented_texts)"
   ]
  },
  {
   "cell_type": "markdown",
   "metadata": {},
   "source": [
    "# 4. Clustering"
   ]
  },
  {
   "cell_type": "markdown",
   "metadata": {},
   "source": [
    "Do K-means clustering"
   ]
  },
  {
   "cell_type": "code",
   "execution_count": 36,
   "metadata": {},
   "outputs": [],
   "source": [
    "clusters = 15\n",
    "kmeans = KMeans(n_clusters=clusters, random_state=0).fit(sentence_embeddings)"
   ]
  },
  {
   "cell_type": "markdown",
   "metadata": {},
   "source": [
    "View samples in each cluster"
   ]
  },
  {
   "cell_type": "code",
   "execution_count": 37,
   "metadata": {},
   "outputs": [
    {
     "name": "stdout",
     "output_type": "stream",
     "text": [
      "Cluster 0 has 746 sentences\n",
      "为什么苹果公司敢在我国这么强势？\n",
      "孟加拉4万平米晒砖场似火车轨道 紧密排布绵延不绝\n",
      "传承红大、抗大血脉，让三尺讲台连接未来战场\n",
      "盛鸣初起，名贯盛京\n",
      "一样的菜为啥不一样的味道\n",
      "\n",
      "Cluster 1 has 55351 sentences\n",
      "完全搜集！黑龙江农垦城镇全揭秘\n",
      "撞到电瓶车怎么办？千万不要急着负责！\n",
      "汶川大地震十周年，那些人，今天仍然令人潸然泪下\n",
      "《死亡笔记》中3大死神介绍合集，有多少还记得帅帅L和夜神月\n",
      "面对智能手机的竞争，电脑系统还会有下一代吗？\n",
      "\n",
      "Cluster 2 has 517 sentences\n",
      "这就是内蒙古\n",
      "华为轮值董事长郭平现身青岛，牵手袁隆平“袁米”，考察海尔集团\n",
      "俄罗斯为什么不敢用核武反击西方制裁？\n",
      "越来越多女人上厕所不用纸擦，只需一个简单的小物，涨见识了\n",
      "澳前外交官第 8 次回乡，带回新版《哈尔滨档案》\n",
      "\n",
      "Cluster 3 has 1927 sentences\n",
      "水银和银哪个密度大？\n",
      "洛杉矶尔湾的军人公墓需要您的选票！\n",
      "东方红一号卫星早就失去联系了，为何在太空飞了48年还不收回？\n",
      "埃及的\"白雪公主\"，拥有无数璀璨的珠宝，却经历十分不幸的婚姻\n",
      "房地产降温进行时：房贷利率又涨了！\n",
      "\n",
      "Cluster 4 has 889 sentences\n",
      "有哪些寥寥几字可以让人潸然泪下的诗句？\n",
      "国安2-2富力的比赛中，主裁王迪的两次判罚引起争议，您认为是否合理？\n",
      "用SPSS做相关分析，通过了显著性检验但相关系数低，该怎么解释？\n",
      "“人生如月，阴晴圆缺”，如何对下一句？\n",
      "全国青年教师教学艺术大赛举行\n",
      "\n",
      "Cluster 5 has 1269 sentences\n",
      "他们用一生的写作曲折回应原生家庭的深刻记忆\n",
      "巨头扎堆涌入，智能音箱创业者如何避免成为炮灰？\n",
      "5月珠海房贷利率最新调查！停贷增多审核趋严\n",
      "直销及其拉人头的营销模式还有生存的空间吗？\n",
      "《费恩曼物理学讲义》是否可以用来做非物理专业本科教材？\n",
      "\n",
      "Cluster 6 has 2957 sentences\n",
      "人民的饮食之广渠门内平娃三宝，曾经的深夜食堂\n",
      "用大炮发射卫星，中国即将首次尝试，背后隐含众多黑科技\n",
      "如果美俄不插手，以色列和伊朗谁的胜算高？\n",
      "普通家庭如何才能培养出985大学的孩子？农村父母建议看完\n",
      "蒋欣，出席活动，网友：这发型已经成功抢镜了\n",
      "\n",
      "Cluster 7 has 3348 sentences\n",
      "别给我谈什么梦想，老子现在只想搞钱\n",
      "板面45度开裂是地基下沉吗？\n",
      "贾惜春：经历过三个三个姐姐凄凉的结局，她最终选择了出家\n",
      "“我就是你们的傀儡！”14岁男孩的怒吼，戳穿教育最大的谎言\n",
      "皮克布克绘本王国：康乃馨已盛开，一起拥抱母爱 丨微分享\n",
      "\n",
      "Cluster 8 has 456 sentences\n",
      "机票退改签顽疾缘何久治不愈\n",
      "机票退改签顽疾缘何久治不愈\n",
      "以色列和伊朗爆发全面战争，谁会赢？以色列vs俄罗斯，又如何？\n",
      "演员王丽坤，参加巴黎某品牌活动，皮肤白皙，一袭长裙，美丽动人\n",
      "阿里巴巴持股翻倍，大润发掌门人黄明瑞再次离场，这次动真格了\n",
      "\n",
      "Cluster 9 has 694 sentences\n",
      "HTC的手机质量怎么样，用的人多不？\n",
      "以色列认为伊朗计划进行军事报复，军方正做准备\n",
      "普京正式开启“4.0时代” 如何施政成关注焦点\n",
      "山东高速称凯撒成绩达标，将进行续约谈判，你怎么看？\n",
      "汤唯出席某活动，网友：女神的世界你不懂，手上居然带着两块表\n",
      "\n",
      "Cluster 10 has 1567 sentences\n",
      "3天逛完20个景点，开封告诉你什么是宋朝？\n",
      "志愿军节节败退，彭德怀无奈搬出当年诸葛亮的战术，歼敌1.2万\n",
      "从信托年报看业务创新：消费信托、资产证券化最热门\n",
      "陈光标之前那么高调，为什么最近不出来了\n",
      "《明见》科技午报 0509\n",
      "\n",
      "Cluster 11 has 715 sentences\n",
      "怎么利用余额宝理财？\n",
      "假如有100万，一年理财最多能挣多少，该如何理性理财？\n",
      "援建者廖永忠\n",
      "地铁站有防空的功能吗？\n",
      "初创企业是否适合融资？\n",
      "\n",
      "Cluster 12 has 1304 sentences\n",
      "你们第一次自驾体验是怎么样的？\n",
      "从目前来看，特朗普是一个好总统吗？\n",
      "多地元旦机票价格比火车票低一半\n",
      "通城县一小学生作文不及格 屁股被老师打青\n",
      "阅读和注解古文时常犯的错误（一）：望文生义\n",
      "\n",
      "Cluster 13 has 400 sentences\n",
      "难以置信的巧合系列（一），安妮海瑟薇的丈夫与莎士比亚的妻子\n",
      "撞车后枪杀中国留学生，只判七年？\n",
      "科普！小额贷会影响申请住房贷款吗？到底谁说了算？\n",
      "央行逆回购+降准，房价跟涨还是继续企稳\n",
      "OCR智能票据识别系统 满足自动数字化需求\n",
      "\n",
      "Cluster 14 has 2835 sentences\n",
      "如果将自然吸气的车进气口改成迎风会不会速度越快动力越强？\n",
      "新疆农民大爷20年专研葫芦雕刻，最高卖2万元一个，却无人愿继承\n",
      "高新区5家企业成为自治区首批云服务商\n",
      "美国哪一场战争失败得最惨？\n",
      "薅羊毛高达1亿元，你敢信么？\n",
      "\n"
     ]
    }
   ],
   "source": [
    "random_sample = True\n",
    "for i in range(clusters):\n",
    "    print(f'Cluster {i} has {np.sum(kmeans.labels_ == i)} sentences')\n",
    "    if random_sample:\n",
    "        print('\\n'.join(all_data_np[np.random.choice(np.where(kmeans.labels_ == i)[0], 5)]))\n",
    "    else:\n",
    "        print('\\n'.join(all_data_np[kmeans.labels_ == i][0:5]))\n",
    "    print('')"
   ]
  }
 ],
 "metadata": {
  "kernelspec": {
   "display_name": "Test",
   "language": "python",
   "name": "python3"
  },
  "language_info": {
   "codemirror_mode": {
    "name": "ipython",
    "version": 3
   },
   "file_extension": ".py",
   "mimetype": "text/x-python",
   "name": "python",
   "nbconvert_exporter": "python",
   "pygments_lexer": "ipython3",
   "version": "3.11.9"
  }
 },
 "nbformat": 4,
 "nbformat_minor": 1
}
